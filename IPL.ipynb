{
 "cells": [
  {
   "cell_type": "markdown",
   "metadata": {},
   "source": [
    "# Which team has won/lost maximum number of matches while chasing?"
   ]
  },
  {
   "cell_type": "code",
   "execution_count": 3,
   "metadata": {},
   "outputs": [],
   "source": [
    "import pandas as pd\n",
    "import numpy as np\n",
    "df= pd.read_csv(\"matches.csv\")"
   ]
  },
  {
   "cell_type": "code",
   "execution_count": 44,
   "metadata": {},
   "outputs": [
    {
     "name": "stdout",
     "output_type": "stream",
     "text": [
      "Kolkata Knight Riders    58\n",
      "Kochi Tuskers Kerala      4\n",
      "Name: team2, dtype: int64\n"
     ]
    }
   ],
   "source": [
    "c=df.query(\"team2==winner\")\n",
    "o=c['team2'].value_counts()\n",
    "print(o.iloc[[0,-1]])"
   ]
  },
  {
   "cell_type": "markdown",
   "metadata": {},
   "source": [
    "# Which toss decision is best for each ground?"
   ]
  },
  {
   "cell_type": "code",
   "execution_count": 5,
   "metadata": {},
   "outputs": [
    {
     "name": "stdout",
     "output_type": "stream",
     "text": [
      "Wankhede Stadium: is suitable for Fielding\n",
      "Feroz Shah Kotla: is suitable for Fielding\n",
      "MA Chidambaram Stadium, Chepauk: is suitable for Batting\n",
      "Eden Gardens: is suitable for Fielding\n",
      "M Chinnaswamy Stadium: is suitable for Fielding\n",
      "Rajiv Gandhi International Stadium, Uppal: is suitable for Fielding\n",
      "Sawai Mansingh Stadium: is suitable for Fielding\n",
      "Punjab Cricket Association Stadium, Mohali: is suitable for Fielding\n",
      "Subrata Roy Sahara Stadium: is suitable for Batting\n",
      "Kingsmead: is suitable for Batting\n",
      "Dr DY Patil Sports Academy: is suitable for Fielding\n",
      "Maharashtra Cricket Association Stadium: is suitable for Fielding\n",
      "Punjab Cricket Association IS Bindra Stadium, Mohali: is suitable for Fielding\n",
      "Brabourne Stadium: is suitable for Batting\n",
      "Sardar Patel Stadium, Motera: is suitable for Fielding\n",
      "Dr. Y.S. Rajasekhara Reddy ACA-VDCA Cricket Stadium: is suitable for Batting\n",
      "Himachal Pradesh Cricket Association Stadium: is suitable for Batting\n",
      "Rajiv Gandhi Intl. Cricket Stadium: is suitable for Batting\n",
      "Newlands: is suitable for Batting\n",
      "Barabati Stadium: is suitable for Batting\n",
      "Sheikh Zayed Stadium: is suitable for Batting\n",
      "M. A. Chidambaram Stadium: is suitable for Fielding\n",
      "SuperSport Park: is suitable for Fielding\n",
      "St George's Park: is suitable for Fielding\n",
      "New Wanderers Stadium: is suitable for Fielding\n",
      "M. Chinnaswamy Stadium: is suitable for Fielding\n",
      "Saurashtra Cricket Association Stadium: is suitable for Fielding\n",
      "Dubai International Cricket Stadium: is suitable for Fielding\n",
      "Nehru Stadium: is suitable for Batting\n",
      "JSCA International Stadium Complex: is suitable for Fielding\n",
      "Sharjah Cricket Stadium: is suitable for Fielding\n",
      "Buffalo Park: is suitable for Batting\n",
      "IS Bindra Stadium: is suitable for Fielding\n",
      "Shaheed Veer Narayan Singh International Stadium: is suitable for Fielding\n",
      "Vidarbha Cricket Association Stadium, Jamtha: is suitable for Batting\n",
      "Feroz Shah Kotla Ground: is suitable for Fielding\n",
      "De Beers Diamond Oval: is suitable for Fielding\n",
      "OUTsurance Oval: is suitable for Fielding\n",
      "Holkar Cricket Stadium: is suitable for Fielding\n"
     ]
    }
   ],
   "source": [
    "team1=df[df['team1']==df['winner']]\n",
    "team2=df[df['team2']==df['winner']]\n",
    "grounds=team1['venue'].value_counts().index\n",
    "\n",
    "\n",
    "for ground in grounds:\n",
    "    if(team1['venue'].value_counts()[ground]>team2['venue'].value_counts()[ground]):\n",
    "        print(ground + ': is suitable for Batting')\n",
    "    else:\n",
    "        print(ground + ': is suitable for Fielding')\n",
    "        \n",
    "\n"
   ]
  },
  {
   "cell_type": "markdown",
   "metadata": {},
   "source": [
    "# Which player has won maximum number of MoM awards while chasing?"
   ]
  },
  {
   "cell_type": "code",
   "execution_count": 20,
   "metadata": {
    "scrolled": true
   },
   "outputs": [
    {
     "name": "stdout",
     "output_type": "stream",
     "text": [
      "YK Pathan    11\n",
      "Name: player_of_match, dtype: int64\n"
     ]
    }
   ],
   "source": [
    "MoM=df.query(\"win_by_wickets>0\")\n",
    "d=MoM['player_of_match'].value_counts()\n",
    "print(d.iloc[[0]]) \n",
    "\n"
   ]
  },
  {
   "cell_type": "markdown",
   "metadata": {},
   "source": [
    "# Which batsman has played maximum number of dot balls?"
   ]
  },
  {
   "cell_type": "code",
   "execution_count": 24,
   "metadata": {},
   "outputs": [
    {
     "data": {
      "text/plain": [
       "V Kohli    1404\n",
       "Name: batsman, dtype: int64"
      ]
     },
     "execution_count": 24,
     "metadata": {},
     "output_type": "execute_result"
    }
   ],
   "source": [
    "ds=pd.read_csv(\"deliveries.csv\")\n",
    "j=ds.query(\"batsman_runs==0 & wide_runs ==0\")\n",
    "c=j[\"batsman\"].value_counts()\n",
    "print(c.iloc[[0]])"
   ]
  },
  {
   "cell_type": "markdown",
   "metadata": {},
   "source": [
    "# Which batsmen came to crease but never got a chance to face a ball?"
   ]
  },
  {
   "cell_type": "code",
   "execution_count": 25,
   "metadata": {},
   "outputs": [
    {
     "data": {
      "text/plain": [
       "25297             A Nel\n",
       "25298             A Nel\n",
       "25299             A Nel\n",
       "47770       C Ganapathy\n",
       "47771       C Ganapathy\n",
       "73812      TP Sudhindra\n",
       "110217    BW Hilfenhaus\n",
       "Name: non_striker, dtype: object"
      ]
     },
     "execution_count": 25,
     "metadata": {},
     "output_type": "execute_result"
    }
   ],
   "source": [
    "c1=ds[\"batsman\"]\n",
    "cr=ds[~ds['non_striker'].isin(c1)]\n",
    "cr[\"non_striker\"]\n"
   ]
  },
  {
   "cell_type": "markdown",
   "metadata": {},
   "source": [
    "# Which bowler has hit for maximum number of 1s?"
   ]
  },
  {
   "cell_type": "code",
   "execution_count": 25,
   "metadata": {},
   "outputs": [
    {
     "name": "stdout",
     "output_type": "stream",
     "text": [
      "Harbhajan Singh    1513\n",
      "Name: bowler, dtype: int64\n"
     ]
    }
   ],
   "source": [
    "j=ds.query(\"total_runs==1 & bye_runs==0 & legbye_runs==0\")\n",
    "c=j['bowler'].value_counts()\n",
    "print(c.iloc[[0]])"
   ]
  },
  {
   "cell_type": "markdown",
   "metadata": {},
   "source": [
    "# Which bowler has hit for maximum number of 2s?"
   ]
  },
  {
   "cell_type": "code",
   "execution_count": 26,
   "metadata": {},
   "outputs": [
    {
     "name": "stdout",
     "output_type": "stream",
     "text": [
      "DJ Bravo    249\n",
      "Name: bowler, dtype: int64\n"
     ]
    }
   ],
   "source": [
    "j=ds.query(\"total_runs==2 & bye_runs==0 & legbye_runs==0\")\n",
    "c=j['bowler'].value_counts()\n",
    "print(c.iloc[[0]])"
   ]
  },
  {
   "cell_type": "markdown",
   "metadata": {},
   "source": [
    "# Which bowler has hit for maximum number of 3s?"
   ]
  },
  {
   "cell_type": "code",
   "execution_count": 27,
   "metadata": {},
   "outputs": [
    {
     "name": "stdout",
     "output_type": "stream",
     "text": [
      "P Kumar    18\n",
      "Name: bowler, dtype: int64\n"
     ]
    }
   ],
   "source": [
    "j=ds.query(\"total_runs==3 & bye_runs==0 & legbye_runs==0\")\n",
    "c=j['bowler'].value_counts()\n",
    "print(c.iloc[[0]])"
   ]
  },
  {
   "cell_type": "markdown",
   "metadata": {},
   "source": [
    "# Which bowler has hit for maximum number of 4s?"
   ]
  },
  {
   "cell_type": "code",
   "execution_count": 28,
   "metadata": {},
   "outputs": [
    {
     "name": "stdout",
     "output_type": "stream",
     "text": [
      "UT Yadav    382\n",
      "Name: bowler, dtype: int64\n"
     ]
    }
   ],
   "source": [
    "j=ds.query(\"total_runs==4 & bye_runs==0 & legbye_runs==0\")\n",
    "c=j['bowler'].value_counts()\n",
    "print(c.iloc[[0]])"
   ]
  },
  {
   "cell_type": "markdown",
   "metadata": {},
   "source": [
    "# Which bowler has hit for maximum number of 6s?"
   ]
  },
  {
   "cell_type": "code",
   "execution_count": 29,
   "metadata": {},
   "outputs": [
    {
     "name": "stdout",
     "output_type": "stream",
     "text": [
      "PP Chawla    171\n",
      "Name: bowler, dtype: int64\n"
     ]
    }
   ],
   "source": [
    "j=ds.query(\"total_runs==6& bye_runs==0 & legbye_runs==0\")\n",
    "c=j['bowler'].value_counts()\n",
    "print(c.iloc[[0]])"
   ]
  },
  {
   "cell_type": "markdown",
   "metadata": {},
   "source": [
    "# Which batsman got stumped out maximum number of times?"
   ]
  },
  {
   "cell_type": "code",
   "execution_count": 30,
   "metadata": {},
   "outputs": [
    {
     "name": "stdout",
     "output_type": "stream",
     "text": [
      "SK Raina    8\n",
      "Name: batsman, dtype: int64\n"
     ]
    }
   ],
   "source": [
    "l=ds.query(\"dismissal_kind=='stumped'\")\n",
    "c=l[\"batsman\"].value_counts()\n",
    "print(c.iloc[[0]])"
   ]
  },
  {
   "cell_type": "markdown",
   "metadata": {},
   "source": [
    "# Which non-striker has been part of maximum number of runouts?"
   ]
  },
  {
   "cell_type": "code",
   "execution_count": 33,
   "metadata": {},
   "outputs": [
    {
     "name": "stdout",
     "output_type": "stream",
     "text": [
      "KD Karthik    16\n",
      "Name: non_striker, dtype: int64\n"
     ]
    }
   ],
   "source": [
    "l=ds.query(\"dismissal_kind=='run out'\")\n",
    "c=l[\"non_striker\"].value_counts()\n",
    "print(c.iloc[[0]])"
   ]
  },
  {
   "cell_type": "markdown",
   "metadata": {},
   "source": [
    "# 5 queries"
   ]
  },
  {
   "cell_type": "markdown",
   "metadata": {},
   "source": [
    "# 1 how many times each team won the toss"
   ]
  },
  {
   "cell_type": "code",
   "execution_count": 31,
   "metadata": {},
   "outputs": [
    {
     "data": {
      "text/plain": [
       "Mumbai Indians                 98\n",
       "Kolkata Knight Riders          92\n",
       "Chennai Super Kings            89\n",
       "Royal Challengers Bangalore    81\n",
       "Kings XI Punjab                81\n",
       "Delhi Daredevils               80\n",
       "Rajasthan Royals               80\n",
       "Sunrisers Hyderabad            46\n",
       "Deccan Chargers                43\n",
       "Pune Warriors                  20\n",
       "Gujarat Lions                  15\n",
       "Delhi Capitals                 10\n",
       "Kochi Tuskers Kerala            8\n",
       "Rising Pune Supergiants         7\n",
       "Rising Pune Supergiant          6\n",
       "Name: toss_winner, dtype: int64"
      ]
     },
     "execution_count": 31,
     "metadata": {},
     "output_type": "execute_result"
    }
   ],
   "source": [
    "dataframe=pd.read_csv(\"matches.csv\")\n",
    "k=dataframe['toss_winner']\n",
    "k.value_counts()\n"
   ]
  },
  {
   "cell_type": "markdown",
   "metadata": {},
   "source": [
    "# 2 what are the chances that each team when won the toss also wins the match!!"
   ]
  },
  {
   "cell_type": "code",
   "execution_count": 34,
   "metadata": {},
   "outputs": [
    {
     "data": {
      "text/plain": [
       "Chennai Super Kings            57\n",
       "Mumbai Indians                 56\n",
       "Kolkata Knight Riders          53\n",
       "Rajasthan Royals               42\n",
       "Royal Challengers Bangalore    41\n",
       "Delhi Daredevils               35\n",
       "Kings XI Punjab                35\n",
       "Sunrisers Hyderabad            23\n",
       "Deccan Chargers                19\n",
       "Gujarat Lions                  10\n",
       "Delhi Capitals                  7\n",
       "Rising Pune Supergiant          5\n",
       "Kochi Tuskers Kerala            4\n",
       "Rising Pune Supergiants         3\n",
       "Pune Warriors                   3\n",
       "Name: winner, dtype: int64"
      ]
     },
     "execution_count": 34,
     "metadata": {},
     "output_type": "execute_result"
    }
   ],
   "source": [
    "k=dataframe.query(\"toss_winner==winner\")\n",
    "k[\"winner\"].value_counts()"
   ]
  },
  {
   "cell_type": "markdown",
   "metadata": {},
   "source": [
    "# 3 which batsman hits maximum 6sixes "
   ]
  },
  {
   "cell_type": "code",
   "execution_count": 37,
   "metadata": {},
   "outputs": [
    {
     "data": {
      "text/plain": [
       "CH Gayle          322\n",
       "AB de Villiers    211\n",
       "MS Dhoni          207\n",
       "SK Raina          194\n",
       "RG Sharma         193\n",
       "V Kohli           190\n",
       "DA Warner         179\n",
       "SR Watson         178\n",
       "KA Pollard        174\n",
       "YK Pathan         161\n",
       "RV Uthappa        156\n",
       "Yuvraj Singh      149\n",
       "BB McCullum       128\n",
       "AT Rayudu         120\n",
       "AD Russell        119\n",
       "DR Smith          117\n",
       "V Sehwag          105\n",
       "KD Karthik        101\n",
       "RR Pant            95\n",
       "S Dhawan           95\n",
       "AC Gilchrist       92\n",
       "GJ Maxwell         91\n",
       "M Vijay            91\n",
       "SV Samson          89\n",
       "DA Miller          86\n",
       "KL Rahul           81\n",
       "JP Duminy          79\n",
       "NV Ojha            78\n",
       "SE Marsh           77\n",
       "MK Pandey          76\n",
       "                 ... \n",
       "SD Lad              1\n",
       "AD Mascarenhas      1\n",
       "FY Fazal            1\n",
       "Sunny Singh         1\n",
       "WD Parnell          1\n",
       "SD Chitnis          1\n",
       "L Ronchi            1\n",
       "M Kartik            1\n",
       "JM Kemp             1\n",
       "Niraj Patel         1\n",
       "Vishnu Vinod        1\n",
       "GH Vihari           1\n",
       "A Choudhary         1\n",
       "H Klaasen           1\n",
       "RR Sarwan           1\n",
       "SN Thakur           1\n",
       "K Upadhyay          1\n",
       "Mohammed Siraj      1\n",
       "H Brar              1\n",
       "AN Ahmed            1\n",
       "KW Richardson       1\n",
       "BJ Haddin           1\n",
       "RV Gomez            1\n",
       "JD Unadkat          1\n",
       "KJ Abbott           1\n",
       "S Singh             1\n",
       "Anirudh Singh       1\n",
       "A Nehra             1\n",
       "NL McCullum         1\n",
       "TS Mills            1\n",
       "Name: batsman, Length: 337, dtype: int64"
      ]
     },
     "execution_count": 37,
     "metadata": {},
     "output_type": "execute_result"
    }
   ],
   "source": [
    "Sixes=ds.query(\"total_runs==6\")\n",
    "Sixes[\"batsman\"].value_counts()"
   ]
  },
  {
   "cell_type": "markdown",
   "metadata": {},
   "source": [
    "# 4 which bowler balled maximum no balls!"
   ]
  },
  {
   "cell_type": "code",
   "execution_count": 34,
   "metadata": {},
   "outputs": [
    {
     "name": "stdout",
     "output_type": "stream",
     "text": [
      "S Sreesanth    23\n",
      "Name: bowler, dtype: int64\n"
     ]
    }
   ],
   "source": [
    "NoBalls=ds.query(\"noball_runs!=0\")\n",
    "c=NoBalls[\"bowler\"].value_counts()\n",
    "print(c.iloc[[0]])\n"
   ]
  },
  {
   "cell_type": "code",
   "execution_count": null,
   "metadata": {},
   "outputs": [],
   "source": []
  },
  {
   "cell_type": "markdown",
   "metadata": {},
   "source": [
    "# 5 how many super overs has been bowled in ipl"
   ]
  },
  {
   "cell_type": "code",
   "execution_count": 42,
   "metadata": {},
   "outputs": [
    {
     "data": {
      "text/plain": [
       "0    178997\n",
       "1        81\n",
       "Name: is_super_over, dtype: int64"
      ]
     },
     "execution_count": 42,
     "metadata": {},
     "output_type": "execute_result"
    }
   ],
   "source": [
    "Super=ds[\"is_super_over\"].value_counts()\n",
    "Super\n"
   ]
  }
 ],
 "metadata": {
  "kernelspec": {
   "display_name": "Python 3",
   "language": "python",
   "name": "python3"
  },
  "language_info": {
   "codemirror_mode": {
    "name": "ipython",
    "version": 3
   },
   "file_extension": ".py",
   "mimetype": "text/x-python",
   "name": "python",
   "nbconvert_exporter": "python",
   "pygments_lexer": "ipython3",
   "version": "3.7.0"
  }
 },
 "nbformat": 4,
 "nbformat_minor": 2
}
